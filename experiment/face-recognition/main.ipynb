{
 "cells": [
  {
   "cell_type": "code",
   "execution_count": 39,
   "metadata": {},
   "outputs": [],
   "source": [
    "import pathlib\n",
    "from pathlib import PosixPath\n",
    "\n",
    "root_path = pathlib.Path(\"/Users/slothpetefirstmacbook/Desktop/work/sigint/programming/face-matching/\")"
   ]
  },
  {
   "cell_type": "markdown",
   "metadata": {},
   "source": [
    "# Test facial image attributes"
   ]
  },
  {
   "cell_type": "code",
   "execution_count": 4,
   "metadata": {},
   "outputs": [
    {
     "data": {
      "text/plain": [
       "[(142, 439, 365, 216)]"
      ]
     },
     "execution_count": 4,
     "metadata": {},
     "output_type": "execute_result"
    }
   ],
   "source": [
    "import face_recognition\n",
    "\n",
    "\n",
    "image = face_recognition.load_image_file(\"/Users/slothpetefirstmacbook/Desktop/work/sigint/programming/face-matching/data/sheldon-1.jpeg\")\n",
    "face_locations = face_recognition.face_locations(image)\n",
    "face_locations"
   ]
  },
  {
   "cell_type": "code",
   "execution_count": 5,
   "metadata": {},
   "outputs": [
    {
     "data": {
      "text/plain": [
       "[{'chin': [(246, 253),\n",
       "   (253, 277),\n",
       "   (265, 301),\n",
       "   (278, 323),\n",
       "   (293, 345),\n",
       "   (312, 364),\n",
       "   (333, 379),\n",
       "   (358, 389),\n",
       "   (385, 385),\n",
       "   (409, 373),\n",
       "   (427, 350),\n",
       "   (445, 326),\n",
       "   (457, 298),\n",
       "   (462, 268),\n",
       "   (458, 237),\n",
       "   (449, 207),\n",
       "   (441, 178)],\n",
       "  'left_eyebrow': [(240, 236), (246, 220), (261, 212), (279, 209), (297, 211)],\n",
       "  'right_eyebrow': [(331, 200),\n",
       "   (349, 185),\n",
       "   (368, 174),\n",
       "   (389, 171),\n",
       "   (407, 179)],\n",
       "  'nose_bridge': [(324, 223), (329, 241), (333, 259), (339, 278)],\n",
       "  'nose_tip': [(329, 297), (339, 298), (349, 297), (358, 290), (366, 284)],\n",
       "  'left_eye': [(266, 244),\n",
       "   (274, 234),\n",
       "   (289, 231),\n",
       "   (303, 236),\n",
       "   (292, 243),\n",
       "   (277, 247)],\n",
       "  'right_eye': [(355, 218),\n",
       "   (363, 204),\n",
       "   (377, 199),\n",
       "   (390, 202),\n",
       "   (383, 212),\n",
       "   (369, 216)],\n",
       "  'top_lip': [(328, 337),\n",
       "   (338, 332),\n",
       "   (349, 325),\n",
       "   (358, 325),\n",
       "   (367, 319),\n",
       "   (382, 316),\n",
       "   (400, 307),\n",
       "   (394, 312),\n",
       "   (371, 324),\n",
       "   (360, 329),\n",
       "   (351, 331),\n",
       "   (333, 337)],\n",
       "  'bottom_lip': [(400, 307),\n",
       "   (390, 322),\n",
       "   (379, 333),\n",
       "   (368, 339),\n",
       "   (358, 342),\n",
       "   (345, 344),\n",
       "   (328, 337),\n",
       "   (333, 337),\n",
       "   (354, 330),\n",
       "   (363, 328),\n",
       "   (373, 323),\n",
       "   (394, 312)]}]"
      ]
     },
     "execution_count": 5,
     "metadata": {},
     "output_type": "execute_result"
    }
   ],
   "source": [
    "face_landmarks_list = face_recognition.face_landmarks(image)\n",
    "face_landmarks_list"
   ]
  },
  {
   "cell_type": "markdown",
   "metadata": {},
   "source": [
    "# Test facial images matching"
   ]
  },
  {
   "cell_type": "code",
   "execution_count": 41,
   "metadata": {},
   "outputs": [
    {
     "data": {
      "text/plain": [
       "'sheldon-3.jpeg'"
      ]
     },
     "execution_count": 41,
     "metadata": {},
     "output_type": "execute_result"
    }
   ],
   "source": [
    "def read_filepaths(path) -> list[PosixPath]:\n",
    "    return list(pathlib.Path(path).rglob(\"*.jpeg\"))\n",
    "\n",
    "read_filepaths(root_path/\"data\")[0].__str__().split(\"/\")[-1]"
   ]
  },
  {
   "cell_type": "code",
   "execution_count": 46,
   "metadata": {},
   "outputs": [
    {
     "data": {
      "text/plain": [
       "{'encoding': array([-0.12867367, -0.02234085,  0.06778619,  0.01825355, -0.06726352,\n",
       "         0.01049298,  0.00994166, -0.03415711,  0.09648566,  0.04365148,\n",
       "         0.19922438, -0.05629226, -0.2707524 ,  0.00518495, -0.06727227,\n",
       "         0.1010756 , -0.12967099, -0.10956792, -0.12190969, -0.06149063,\n",
       "         0.04934294,  0.14424579, -0.03634341,  0.03424037, -0.10411724,\n",
       "        -0.32725111, -0.09423515, -0.14217222,  0.06231607, -0.12107858,\n",
       "        -0.04571602,  0.11569121, -0.15507969, -0.07599087,  0.10200348,\n",
       "         0.03009175, -0.09093795, -0.05156185,  0.21510921,  0.0651102 ,\n",
       "        -0.11579283,  0.00524262,  0.04798607,  0.35829765,  0.14269337,\n",
       "         0.0551962 , -0.01282577, -0.07058521,  0.09467336, -0.30214778,\n",
       "         0.10873809,  0.19100468,  0.13672717,  0.12075241,  0.12010489,\n",
       "        -0.1953755 ,  0.00731098,  0.06034064, -0.20222482,  0.20243549,\n",
       "         0.0080327 , -0.13817129, -0.02342527, -0.12955742,  0.11193204,\n",
       "         0.0246538 , -0.07854345, -0.1081457 ,  0.20954286, -0.10303617,\n",
       "        -0.0180154 ,  0.11876365, -0.12106866, -0.20864207, -0.22907355,\n",
       "         0.01089671,  0.45751745,  0.10721283, -0.24358301,  0.02614092,\n",
       "        -0.04192184, -0.11276117,  0.02628572,  0.06961694, -0.04907725,\n",
       "         0.00544228, -0.09772505,  0.07348298,  0.1861648 , -0.02350152,\n",
       "        -0.00744828,  0.23803188,  0.00089952, -0.00954715,  0.12356759,\n",
       "         0.07677937, -0.07364773, -0.08010201, -0.11762417, -0.05164904,\n",
       "         0.02836912, -0.15383719, -0.01140028,  0.07378644, -0.12070658,\n",
       "         0.22501187,  0.03231947, -0.02074586, -0.05725031, -0.08119538,\n",
       "        -0.07111228,  0.05903417,  0.2218876 , -0.2586382 ,  0.19977383,\n",
       "         0.11819664,  0.04152698,  0.14390346, -0.07709152,  0.05659849,\n",
       "        -0.0777503 , -0.05754659, -0.20742498, -0.10102279,  0.0320641 ,\n",
       "         0.00136855, -0.02613749,  0.05996298]),\n",
       " 'label': 'sheldon-3.jpeg',\n",
       " 'path': PosixPath('/Users/slothpetefirstmacbook/Desktop/work/sigint/programming/face-matching/data/train/sheldon-3.jpeg')}"
      ]
     },
     "execution_count": 46,
     "metadata": {},
     "output_type": "execute_result"
    }
   ],
   "source": [
    "image_paths = read_filepaths(root_path/\"data\"/\"train\")\n",
    "image_buffers = [face_recognition.load_image_file(path) for path in image_paths]\n",
    "# type(image_encodings[0])\n",
    "image_encodings = [face_recognition.face_encodings(img_buffer)[0] for img_buffer in image_buffers]\n",
    "face_encoded  = [{\n",
    "    \"encoding\": a,\n",
    "    \"label\": b,\n",
    "    \"path\": c\n",
    "} for a, b, c in list(zip(image_encodings, [path.__str__().split(\"/\")[-1] for path in image_paths], image_paths))]\n"
   ]
  },
  {
   "cell_type": "code",
   "execution_count": 62,
   "metadata": {},
   "outputs": [],
   "source": [
    "# Load a test image and get encondings for it\n",
    "sheldon_4 = face_recognition.load_image_file(root_path/\"data\"/\"test\"/\"sheldon-4.png\")\n",
    "sheldon_4_encoding = face_recognition.face_encodings(sheldon_4)[0]\n",
    "\n",
    "face_distances = [{\n",
    "    \"distance\": dis,\n",
    "    \"image\": img\n",
    "} for dis, img in list(zip(face_recognition.face_distance([encoding['encoding'] for encoding in face_encoded], sheldon_4_encoding), face_encoded))]"
   ]
  },
  {
   "cell_type": "code",
   "execution_count": 65,
   "metadata": {},
   "outputs": [
    {
     "name": "stdout",
     "output_type": "stream",
     "text": [
      "The test image distance [0.44] from image #sheldon-3.jpeg\n",
      "- Normal cutoff (<0.6): True\n",
      "- Very strict cutoff (<0.5): True\n",
      "The test image distance [0.44] from image #sheldon-2.jpeg\n",
      "- Normal cutoff (<0.6): True\n",
      "- Very strict cutoff (<0.5): True\n",
      "The test image distance [0.93] from image #leo-1.jpeg\n",
      "- Normal cutoff (<0.6): False\n",
      "- Very strict cutoff (<0.5): False\n",
      "The test image distance [0.95] from image #leo-2.jpeg\n",
      "- Normal cutoff (<0.6): False\n",
      "- Very strict cutoff (<0.5): False\n",
      "The test image distance [0.93] from image #leo-3.jpeg\n",
      "- Normal cutoff (<0.6): False\n",
      "- Very strict cutoff (<0.5): False\n",
      "The test image distance [0.39] from image #sheldon-1.jpeg\n",
      "- Normal cutoff (<0.6): True\n",
      "- Very strict cutoff (<0.5): True\n"
     ]
    }
   ],
   "source": [
    "for item in face_distances:\n",
    "    face_distance = item['distance']\n",
    "    label = item['image']['label']\n",
    "    print(\"The test image distance [{:.2}] from image #{}\".format(face_distance, label))\n",
    "    print(\"- Normal cutoff (<0.6): {}\".format(face_distance < 0.6))\n",
    "    print(\"- Very strict cutoff (<0.5): {}\".format(face_distance < 0.5))"
   ]
  },
  {
   "cell_type": "code",
   "execution_count": null,
   "metadata": {},
   "outputs": [],
   "source": []
  }
 ],
 "metadata": {
  "kernelspec": {
   "display_name": ".venv",
   "language": "python",
   "name": "python3"
  },
  "language_info": {
   "codemirror_mode": {
    "name": "ipython",
    "version": 3
   },
   "file_extension": ".py",
   "mimetype": "text/x-python",
   "name": "python",
   "nbconvert_exporter": "python",
   "pygments_lexer": "ipython3",
   "version": "3.10.11"
  },
  "orig_nbformat": 4
 },
 "nbformat": 4,
 "nbformat_minor": 2
}
